{
 "cells": [
  {
   "cell_type": "markdown",
   "id": "b0dfaf42",
   "metadata": {
    "papermill": {
     "duration": 0.00666,
     "end_time": "2023-04-17T13:29:53.530028",
     "exception": false,
     "start_time": "2023-04-17T13:29:53.523368",
     "status": "completed"
    },
    "tags": []
   },
   "source": [
    "# Validate The Model\n",
    "**The code below imports the necessary libraries for this project.**"
   ]
  },
  {
   "cell_type": "code",
   "execution_count": 1,
   "id": "3661e571",
   "metadata": {
    "_cell_guid": "b1076dfc-b9ad-4769-8c92-a6c4dae69d19",
    "_uuid": "8f2839f25d086af736a60e9eeb907d3b93b6e0e5",
    "execution": {
     "iopub.execute_input": "2023-04-17T13:29:53.543613Z",
     "iopub.status.busy": "2023-04-17T13:29:53.542297Z",
     "iopub.status.idle": "2023-04-17T13:30:00.128623Z",
     "shell.execute_reply": "2023-04-17T13:30:00.127309Z"
    },
    "papermill": {
     "duration": 6.596448,
     "end_time": "2023-04-17T13:30:00.131792",
     "exception": false,
     "start_time": "2023-04-17T13:29:53.535344",
     "status": "completed"
    },
    "tags": []
   },
   "outputs": [],
   "source": [
    "from fastai.imports import *\n",
    "from fastai.vision.all import *\n",
    "from fastai.vision.widgets import *\n",
    "from PIL import Image\n",
    "import numpy"
   ]
  },
  {
   "cell_type": "markdown",
   "id": "8c1e6142",
   "metadata": {
    "papermill": {
     "duration": 0.004741,
     "end_time": "2023-04-17T13:30:00.141781",
     "exception": false,
     "start_time": "2023-04-17T13:30:00.137040",
     "status": "completed"
    },
    "tags": []
   },
   "source": [
    "**The path to the validation dataset**"
   ]
  },
  {
   "cell_type": "code",
   "execution_count": 2,
   "id": "db01ee84",
   "metadata": {
    "execution": {
     "iopub.execute_input": "2023-04-17T13:30:00.154723Z",
     "iopub.status.busy": "2023-04-17T13:30:00.153967Z",
     "iopub.status.idle": "2023-04-17T13:30:00.160662Z",
     "shell.execute_reply": "2023-04-17T13:30:00.158869Z"
    },
    "papermill": {
     "duration": 0.016822,
     "end_time": "2023-04-17T13:30:00.163832",
     "exception": false,
     "start_time": "2023-04-17T13:30:00.147010",
     "status": "completed"
    },
    "tags": []
   },
   "outputs": [],
   "source": [
    "PATH = \"/kaggle/input/testset/data/validation\""
   ]
  },
  {
   "cell_type": "markdown",
   "id": "decd0158",
   "metadata": {
    "papermill": {
     "duration": 0.004903,
     "end_time": "2023-04-17T13:30:00.174007",
     "exception": false,
     "start_time": "2023-04-17T13:30:00.169104",
     "status": "completed"
    },
    "tags": []
   },
   "source": [
    "**The batch sice**"
   ]
  },
  {
   "cell_type": "code",
   "execution_count": 3,
   "id": "308b7144",
   "metadata": {
    "execution": {
     "iopub.execute_input": "2023-04-17T13:30:00.186880Z",
     "iopub.status.busy": "2023-04-17T13:30:00.186418Z",
     "iopub.status.idle": "2023-04-17T13:30:00.192043Z",
     "shell.execute_reply": "2023-04-17T13:30:00.191025Z"
    },
    "papermill": {
     "duration": 0.015114,
     "end_time": "2023-04-17T13:30:00.194667",
     "exception": false,
     "start_time": "2023-04-17T13:30:00.179553",
     "status": "completed"
    },
    "tags": []
   },
   "outputs": [],
   "source": [
    "bs = 128"
   ]
  },
  {
   "cell_type": "markdown",
   "id": "3ba79f91",
   "metadata": {
    "papermill": {
     "duration": 0.005941,
     "end_time": "2023-04-17T13:30:00.205748",
     "exception": false,
     "start_time": "2023-04-17T13:30:00.199807",
     "status": "completed"
    },
    "tags": []
   },
   "source": [
    "**A test to se if you get a image from the validation dataset**"
   ]
  },
  {
   "cell_type": "code",
   "execution_count": 4,
   "id": "8cfbd5e2",
   "metadata": {
    "execution": {
     "iopub.execute_input": "2023-04-17T13:30:00.218673Z",
     "iopub.status.busy": "2023-04-17T13:30:00.217482Z",
     "iopub.status.idle": "2023-04-17T13:30:00.257232Z",
     "shell.execute_reply": "2023-04-17T13:30:00.255749Z"
    },
    "papermill": {
     "duration": 0.049624,
     "end_time": "2023-04-17T13:30:00.260470",
     "exception": false,
     "start_time": "2023-04-17T13:30:00.210846",
     "status": "completed"
    },
    "tags": []
   },
   "outputs": [
    {
     "data": {
      "image/png": "[encoded data removed]",
      "text/plain": [
       "<PIL.JpegImagePlugin.JpegImageFile image mode=RGB size=50x50>"
      ]
     },
     "execution_count": 4,
     "metadata": {},
     "output_type": "execute_result"
    }
   ],
   "source": [
    "im = Image.open(PATH+\"/no_pools/img957.jpg\")\n",
    "im"
   ]
  },
  {
   "cell_type": "markdown",
   "id": "374b1c09",
   "metadata": {
    "papermill": {
     "duration": 0.005383,
     "end_time": "2023-04-17T13:30:00.272017",
     "exception": false,
     "start_time": "2023-04-17T13:30:00.266634",
     "status": "completed"
    },
    "tags": []
   },
   "source": [
    "**A datablock like we have in the CreateModel but here its much more simple. See [createmodel.ipynb](https://www.kaggle.com/code/jrgenbjerkan/createmodel) for mor information**"
   ]
  },
  {
   "cell_type": "code",
   "execution_count": 5,
   "id": "af2466a7",
   "metadata": {
    "execution": {
     "iopub.execute_input": "2023-04-17T13:30:00.287248Z",
     "iopub.status.busy": "2023-04-17T13:30:00.286647Z",
     "iopub.status.idle": "2023-04-17T13:30:00.299636Z",
     "shell.execute_reply": "2023-04-17T13:30:00.297715Z"
    },
    "papermill": {
     "duration": 0.024443,
     "end_time": "2023-04-17T13:30:00.302843",
     "exception": false,
     "start_time": "2023-04-17T13:30:00.278400",
     "status": "completed"
    },
    "tags": []
   },
   "outputs": [],
   "source": [
    "data = DataBlock(\n",
    "    blocks=(ImageBlock, CategoryBlock),\n",
    "    get_items=get_image_files,\n",
    "    splitter=RandomSplitter(valid_pct=0.2, seed=42),\n",
    "    get_y=parent_label,\n",
    "    item_tfms=Resize(50))\n"
   ]
  },
  {
   "cell_type": "markdown",
   "id": "2884abca",
   "metadata": {
    "papermill": {
     "duration": 0.004987,
     "end_time": "2023-04-17T13:30:00.313291",
     "exception": false,
     "start_time": "2023-04-17T13:30:00.308304",
     "status": "completed"
    },
    "tags": []
   },
   "source": [
    "**By creating a DataLoaders object with the specified batch size, the model can efficiently process the data during validation.**"
   ]
  },
  {
   "cell_type": "code",
   "execution_count": 6,
   "id": "ea6f3451",
   "metadata": {
    "execution": {
     "iopub.execute_input": "2023-04-17T13:30:00.327298Z",
     "iopub.status.busy": "2023-04-17T13:30:00.326769Z",
     "iopub.status.idle": "2023-04-17T13:30:00.571530Z",
     "shell.execute_reply": "2023-04-17T13:30:00.569963Z"
    },
    "papermill": {
     "duration": 0.255932,
     "end_time": "2023-04-17T13:30:00.574743",
     "exception": false,
     "start_time": "2023-04-17T13:30:00.318811",
     "status": "completed"
    },
    "tags": []
   },
   "outputs": [],
   "source": [
    "dls = data.dataloaders(PATH, bs=bs)"
   ]
  },
  {
   "cell_type": "markdown",
   "id": "bff07689",
   "metadata": {
    "papermill": {
     "duration": 0.004952,
     "end_time": "2023-04-17T13:30:00.585159",
     "exception": false,
     "start_time": "2023-04-17T13:30:00.580207",
     "status": "completed"
    },
    "tags": []
   },
   "source": [
    "**loads a pre-trained model into the learn variable using the load_learner function from the fastai library. The cpu=False argument specifies that the model should be loaded onto a GPU if one is available. This can significantly speed up the prediction process, especially for large models and datasets.**"
   ]
  },
  {
   "cell_type": "code",
   "execution_count": 7,
   "id": "4aaee1a0",
   "metadata": {
    "execution": {
     "iopub.execute_input": "2023-04-17T13:30:00.597519Z",
     "iopub.status.busy": "2023-04-17T13:30:00.597082Z",
     "iopub.status.idle": "2023-04-17T13:30:01.416931Z",
     "shell.execute_reply": "2023-04-17T13:30:01.415879Z"
    },
    "papermill": {
     "duration": 0.829304,
     "end_time": "2023-04-17T13:30:01.419697",
     "exception": false,
     "start_time": "2023-04-17T13:30:00.590393",
     "status": "completed"
    },
    "tags": []
   },
   "outputs": [],
   "source": [
    "learn= load_learner('/kaggle/input/pool-detection-model/Pool-Detection-Model.pkl', cpu=False)"
   ]
  },
  {
   "cell_type": "markdown",
   "id": "0edbb88d",
   "metadata": {
    "papermill": {
     "duration": 0.004998,
     "end_time": "2023-04-17T13:30:01.430014",
     "exception": false,
     "start_time": "2023-04-17T13:30:01.425016",
     "status": "completed"
    },
    "tags": []
   },
   "source": [
    "**create a new Learner object named new_learn using the dls object and the model attribute of the learn object as inputs. The loss_func argument specifies the loss function to use during training, and the metrics argument specifies the metric(s) to use for evaluating the model.**"
   ]
  },
  {
   "cell_type": "code",
   "execution_count": 8,
   "id": "2bad9071",
   "metadata": {
    "execution": {
     "iopub.execute_input": "2023-04-17T13:30:01.444259Z",
     "iopub.status.busy": "2023-04-17T13:30:01.443161Z",
     "iopub.status.idle": "2023-04-17T13:30:01.463260Z",
     "shell.execute_reply": "2023-04-17T13:30:01.461637Z"
    },
    "papermill": {
     "duration": 0.029847,
     "end_time": "2023-04-17T13:30:01.466340",
     "exception": false,
     "start_time": "2023-04-17T13:30:01.436493",
     "status": "completed"
    },
    "tags": []
   },
   "outputs": [
    {
     "data": {
      "text/plain": [
       "<All keys matched successfully>"
      ]
     },
     "execution_count": 8,
     "metadata": {},
     "output_type": "execute_result"
    }
   ],
   "source": [
    "new_learn = Learner(dls, learn.model, loss_func=CrossEntropyLossFlat(), metrics=accuracy)\n",
    "new_learn.model.load_state_dict(learn.model.state_dict())\n"
   ]
  },
  {
   "cell_type": "markdown",
   "id": "46a6ca10",
   "metadata": {
    "papermill": {
     "duration": 0.006109,
     "end_time": "2023-04-17T13:30:01.477979",
     "exception": false,
     "start_time": "2023-04-17T13:30:01.471870",
     "status": "completed"
    },
    "tags": []
   },
   "source": [
    "**This line of code calculates the validation loss and accuracy of the new_learn model and assigns the values to the val_loss and val_acc variables.**"
   ]
  },
  {
   "cell_type": "code",
   "execution_count": 9,
   "id": "a5d75e24",
   "metadata": {
    "execution": {
     "iopub.execute_input": "2023-04-17T13:30:01.493289Z",
     "iopub.status.busy": "2023-04-17T13:30:01.491981Z",
     "iopub.status.idle": "2023-04-17T13:30:02.751656Z",
     "shell.execute_reply": "2023-04-17T13:30:02.750459Z"
    },
    "papermill": {
     "duration": 1.270063,
     "end_time": "2023-04-17T13:30:02.754495",
     "exception": false,
     "start_time": "2023-04-17T13:30:01.484432",
     "status": "completed"
    },
    "tags": []
   },
   "outputs": [
    {
     "data": {
      "text/html": [
       "\n",
       "<style>\n",
       "    /* Turns off some styling */\n",
       "    progress {\n",
       "        /* gets rid of default border in Firefox and Opera. */\n",
       "        border: none;\n",
       "        /* Needs to be in here for Safari polyfill so background images work as expected. */\n",
       "        background-size: auto;\n",
       "    }\n",
       "    progress:not([value]), progress:not([value])::-webkit-progress-bar {\n",
       "        background: repeating-linear-gradient(45deg, #7e7e7e, #7e7e7e 10px, #5c5c5c 10px, #5c5c5c 20px);\n",
       "    }\n",
       "    .progress-bar-interrupted, .progress-bar-interrupted::-webkit-progress-bar {\n",
       "        background: #F44336;\n",
       "    }\n",
       "</style>\n"
      ],
      "text/plain": [
       "<IPython.core.display.HTML object>"
      ]
     },
     "metadata": {},
     "output_type": "display_data"
    },
    {
     "data": {
      "text/html": [],
      "text/plain": [
       "<IPython.core.display.HTML object>"
      ]
     },
     "metadata": {},
     "output_type": "display_data"
    }
   ],
   "source": [
    "val_loss, val_acc = new_learn.validate()"
   ]
  },
  {
   "cell_type": "markdown",
   "id": "0a9f90f5",
   "metadata": {
    "papermill": {
     "duration": 0.006501,
     "end_time": "2023-04-17T13:30:02.767503",
     "exception": false,
     "start_time": "2023-04-17T13:30:02.761002",
     "status": "completed"
    },
    "tags": []
   },
   "source": [
    "**The output of this line of code will display the validation loss and accuracy of the model**"
   ]
  },
  {
   "cell_type": "code",
   "execution_count": 10,
   "id": "c429afcb",
   "metadata": {
    "execution": {
     "iopub.execute_input": "2023-04-17T13:30:02.783235Z",
     "iopub.status.busy": "2023-04-17T13:30:02.781820Z",
     "iopub.status.idle": "2023-04-17T13:30:02.789973Z",
     "shell.execute_reply": "2023-04-17T13:30:02.788342Z"
    },
    "papermill": {
     "duration": 0.018737,
     "end_time": "2023-04-17T13:30:02.792803",
     "exception": false,
     "start_time": "2023-04-17T13:30:02.774066",
     "status": "completed"
    },
    "tags": []
   },
   "outputs": [
    {
     "name": "stdout",
     "output_type": "stream",
     "text": [
      "Validation Loss: 0.4650639295578003, Validation Accuracy: 0.8450704216957092\n"
     ]
    }
   ],
   "source": [
    "print(f'Validation Loss: {val_loss}, Validation Accuracy: {val_acc}')"
   ]
  },
  {
   "cell_type": "markdown",
   "id": "006b0922",
   "metadata": {
    "papermill": {
     "duration": 0.0054,
     "end_time": "2023-04-17T13:30:02.803996",
     "exception": false,
     "start_time": "2023-04-17T13:30:02.798596",
     "status": "completed"
    },
    "tags": []
   },
   "source": [
    "The Validation Loss value of 0.465 indicates the average loss (error) of the model on the validation set. A lower validation loss indicates that the model is performing better on the validation set, as it is making more accurate predictions.\n",
    "\n",
    "The Validation Accuracy value of 0.845 indicates the percentage of correctly predicted labels in the validation set by the model. A higher validation accuracy indicates that the model is performing better on the validation set, as it is making more accurate predictions."
   ]
  }
 ],
 "metadata": {
  "kernelspec": {
   "display_name": "Python 3",
   "language": "python",
   "name": "python3"
  },
  "language_info": {
   "codemirror_mode": {
    "name": "ipython",
    "version": 3
   },
   "file_extension": ".py",
   "mimetype": "text/x-python",
   "name": "python",
   "nbconvert_exporter": "python",
   "pygments_lexer": "ipython3",
   "version": "3.7.12"
  },
  "papermill": {
   "default_parameters": {},
   "duration": 23.268581,
   "end_time": "2023-04-17T13:30:04.238665",
   "environment_variables": {},
   "exception": null,
   "input_path": "__notebook__.ipynb",
   "output_path": "__notebook__.ipynb",
   "parameters": {},
   "start_time": "2023-04-17T13:29:40.970084",
   "version": "2.4.0"
  }
 },
 "nbformat": 4,
 "nbformat_minor": 5
}
