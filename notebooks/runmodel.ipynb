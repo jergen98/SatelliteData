{
 "cells": [
  {
   "cell_type": "markdown",
   "id": "14d95f23",
   "metadata": {
    "papermill": {
     "duration": 0.005357,
     "end_time": "2023-04-17T13:08:47.090157",
     "exception": false,
     "start_time": "2023-04-17T13:08:47.084800",
     "status": "completed"
    },
    "tags": []
   },
   "source": [
    "Import all necessary functions and classes from FastAI's library.\n",
    "Import Image classes from the Python Imaging Library (PIL) for handling image.\n",
    "Import NumPy, a library for numerical operations, to handle arrays and perform mathematical computations"
   ]
  },
  {
   "cell_type": "code",
   "execution_count": 1,
   "id": "4bc2c092",
   "metadata": {
    "_cell_guid": "b1076dfc-b9ad-4769-8c92-a6c4dae69d19",
    "_uuid": "8f2839f25d086af736a60e9eeb907d3b93b6e0e5",
    "execution": {
     "iopub.execute_input": "2023-04-17T13:08:47.100809Z",
     "iopub.status.busy": "2023-04-17T13:08:47.100052Z",
     "iopub.status.idle": "2023-04-17T13:08:52.016465Z",
     "shell.execute_reply": "2023-04-17T13:08:52.015071Z"
    },
    "papermill": {
     "duration": 4.92485,
     "end_time": "2023-04-17T13:08:52.019376",
     "exception": false,
     "start_time": "2023-04-17T13:08:47.094526",
     "status": "completed"
    },
    "tags": []
   },
   "outputs": [],
   "source": [
    "from fastai.imports import *\n",
    "from fastai.vision.all import *\n",
    "from fastai.vision.widgets import *\n",
    "from PIL import Image\n",
    "import numpy"
   ]
  },
  {
   "cell_type": "markdown",
   "id": "b551fb6b",
   "metadata": {
    "papermill": {
     "duration": 0.003908,
     "end_time": "2023-04-17T13:08:52.027740",
     "exception": false,
     "start_time": "2023-04-17T13:08:52.023832",
     "status": "completed"
    },
    "tags": []
   },
   "source": [
    "**First time you run the code, you need to run this line. However, if you run it again, you should comment it out. Otherwise, some weird problems may occur.**"
   ]
  },
  {
   "cell_type": "code",
   "execution_count": 2,
   "id": "f9176c6d",
   "metadata": {
    "execution": {
     "iopub.execute_input": "2023-04-17T13:08:52.037564Z",
     "iopub.status.busy": "2023-04-17T13:08:52.037190Z",
     "iopub.status.idle": "2023-04-17T13:09:08.401514Z",
     "shell.execute_reply": "2023-04-17T13:09:08.400251Z"
    },
    "papermill": {
     "duration": 16.372627,
     "end_time": "2023-04-17T13:09:08.404592",
     "exception": false,
     "start_time": "2023-04-17T13:08:52.031965",
     "status": "completed"
    },
    "tags": []
   },
   "outputs": [
    {
     "name": "stdout",
     "output_type": "stream",
     "text": [
      "Collecting gradio\r\n",
      "  Downloading gradio-3.27.0-py3-none-any.whl (17.3 MB)\r\n",
      "\u001b[2K     \u001b[90m━━━━━━━━━━━━━━━━━━━━━━━━━━━━━━━━━━━━━━━━\u001b[0m \u001b[32m17.3/17.3 MB\u001b[0m \u001b[31m52.1 MB/s\u001b[0m eta \u001b[36m0:00:00\u001b[0m\r\n",
      "\u001b[?25hRequirement already satisfied: pyyaml in /opt/conda/lib/python3.7/site-packages (from gradio) (6.0)\r\n",
      "Requirement already satisfied: matplotlib in /opt/conda/lib/python3.7/site-packages (from gradio) (3.5.3)\r\n",
      "Requirement already satisfied: huggingface-hub>=0.13.0 in /opt/conda/lib/python3.7/site-packages (from gradio) (0.13.3)\r\n",
      "Requirement already satisfied: pillow in /opt/conda/lib/python3.7/site-packages (from gradio) (9.4.0)\r\n",
      "Requirement already satisfied: jinja2 in /opt/conda/lib/python3.7/site-packages (from gradio) (3.1.2)\r\n",
      "Requirement already satisfied: markdown-it-py[linkify]>=2.0.0 in /opt/conda/lib/python3.7/site-packages (from gradio) (2.1.0)\r\n",
      "Requirement already satisfied: aiohttp in /opt/conda/lib/python3.7/site-packages (from gradio) (3.8.3)\r\n",
      "Requirement already satisfied: requests in /opt/conda/lib/python3.7/site-packages (from gradio) (2.28.2)\r\n",
      "Collecting python-multipart\r\n",
      "  Downloading python_multipart-0.0.6-py3-none-any.whl (45 kB)\r\n",
      "\u001b[2K     \u001b[90m━━━━━━━━━━━━━━━━━━━━━━━━━━━━━━━━━━━━━━━━\u001b[0m \u001b[32m45.7/45.7 kB\u001b[0m \u001b[31m4.0 MB/s\u001b[0m eta \u001b[36m0:00:00\u001b[0m\r\n",
      "\u001b[?25hRequirement already satisfied: orjson in /opt/conda/lib/python3.7/site-packages (from gradio) (3.8.5)\r\n",
      "Requirement already satisfied: mdit-py-plugins<=0.3.3 in /opt/conda/lib/python3.7/site-packages (from gradio) (0.3.3)\r\n",
      "Collecting semantic-version\r\n",
      "  Downloading semantic_version-2.10.0-py2.py3-none-any.whl (15 kB)\r\n",
      "Requirement already satisfied: typing-extensions in /opt/conda/lib/python3.7/site-packages (from gradio) (4.4.0)\r\n",
      "Collecting aiofiles\r\n",
      "  Downloading aiofiles-23.1.0-py3-none-any.whl (14 kB)\r\n",
      "Collecting gradio-client>=0.1.3\r\n",
      "  Downloading gradio_client-0.1.3-py3-none-any.whl (286 kB)\r\n",
      "\u001b[2K     \u001b[90m━━━━━━━━━━━━━━━━━━━━━━━━━━━━━━━━━━━━━━\u001b[0m \u001b[32m286.2/286.2 kB\u001b[0m \u001b[31m25.4 MB/s\u001b[0m eta \u001b[36m0:00:00\u001b[0m\r\n",
      "\u001b[?25hCollecting ffmpy\r\n",
      "  Downloading ffmpy-0.3.0.tar.gz (4.8 kB)\r\n",
      "  Preparing metadata (setup.py) ... \u001b[?25l-\b \bdone\r\n",
      "\u001b[?25hRequirement already satisfied: numpy in /opt/conda/lib/python3.7/site-packages (from gradio) (1.21.6)\r\n",
      "Requirement already satisfied: websockets>=10.0 in /opt/conda/lib/python3.7/site-packages (from gradio) (11.0)\r\n",
      "Requirement already satisfied: fastapi in /opt/conda/lib/python3.7/site-packages (from gradio) (0.89.1)\r\n",
      "Collecting httpx\r\n",
      "  Downloading httpx-0.24.0-py3-none-any.whl (75 kB)\r\n",
      "\u001b[2K     \u001b[90m━━━━━━━━━━━━━━━━━━━━━━━━━━━━━━━━━━━━━━━━\u001b[0m \u001b[32m75.3/75.3 kB\u001b[0m \u001b[31m6.9 MB/s\u001b[0m eta \u001b[36m0:00:00\u001b[0m\r\n",
      "\u001b[?25hRequirement already satisfied: pydantic in /opt/conda/lib/python3.7/site-packages (from gradio) (1.10.4)\r\n",
      "Requirement already satisfied: uvicorn in /opt/conda/lib/python3.7/site-packages (from gradio) (0.20.0)\r\n",
      "Requirement already satisfied: pydub in /opt/conda/lib/python3.7/site-packages (from gradio) (0.25.1)\r\n",
      "Requirement already satisfied: altair>=4.2.0 in /opt/conda/lib/python3.7/site-packages (from gradio) (4.2.2)\r\n",
      "Requirement already satisfied: markupsafe in /opt/conda/lib/python3.7/site-packages (from gradio) (2.1.1)\r\n",
      "Requirement already satisfied: pandas in /opt/conda/lib/python3.7/site-packages (from gradio) (1.3.5)\r\n",
      "Requirement already satisfied: jsonschema>=3.0 in /opt/conda/lib/python3.7/site-packages (from altair>=4.2.0->gradio) (4.17.3)\r\n",
      "Requirement already satisfied: entrypoints in /opt/conda/lib/python3.7/site-packages (from altair>=4.2.0->gradio) (0.4)\r\n",
      "Requirement already satisfied: toolz in /opt/conda/lib/python3.7/site-packages (from altair>=4.2.0->gradio) (0.11.2)\r\n",
      "Requirement already satisfied: fsspec in /opt/conda/lib/python3.7/site-packages (from gradio-client>=0.1.3->gradio) (2023.1.0)\r\n",
      "Requirement already satisfied: packaging in /opt/conda/lib/python3.7/site-packages (from gradio-client>=0.1.3->gradio) (23.0)\r\n",
      "Requirement already satisfied: importlib-metadata in /opt/conda/lib/python3.7/site-packages (from huggingface-hub>=0.13.0->gradio) (4.11.4)\r\n",
      "Requirement already satisfied: filelock in /opt/conda/lib/python3.7/site-packages (from huggingface-hub>=0.13.0->gradio) (3.9.0)\r\n",
      "Requirement already satisfied: tqdm>=4.42.1 in /opt/conda/lib/python3.7/site-packages (from huggingface-hub>=0.13.0->gradio) (4.64.1)\r\n",
      "Requirement already satisfied: mdurl~=0.1 in /opt/conda/lib/python3.7/site-packages (from markdown-it-py[linkify]>=2.0.0->gradio) (0.1.2)\r\n",
      "Collecting linkify-it-py~=1.0\r\n",
      "  Downloading linkify_it_py-1.0.3-py3-none-any.whl (19 kB)\r\n",
      "Requirement already satisfied: pytz>=2017.3 in /opt/conda/lib/python3.7/site-packages (from pandas->gradio) (2022.7.1)\r\n",
      "Requirement already satisfied: python-dateutil>=2.7.3 in /opt/conda/lib/python3.7/site-packages (from pandas->gradio) (2.8.2)\r\n",
      "Requirement already satisfied: charset-normalizer<3.0,>=2.0 in /opt/conda/lib/python3.7/site-packages (from aiohttp->gradio) (2.1.1)\r\n",
      "Requirement already satisfied: multidict<7.0,>=4.5 in /opt/conda/lib/python3.7/site-packages (from aiohttp->gradio) (6.0.4)\r\n",
      "Requirement already satisfied: yarl<2.0,>=1.0 in /opt/conda/lib/python3.7/site-packages (from aiohttp->gradio) (1.8.2)\r\n",
      "Requirement already satisfied: asynctest==0.13.0 in /opt/conda/lib/python3.7/site-packages (from aiohttp->gradio) (0.13.0)\r\n",
      "Requirement already satisfied: frozenlist>=1.1.1 in /opt/conda/lib/python3.7/site-packages (from aiohttp->gradio) (1.3.3)\r\n",
      "Requirement already satisfied: async-timeout<5.0,>=4.0.0a3 in /opt/conda/lib/python3.7/site-packages (from aiohttp->gradio) (4.0.2)\r\n",
      "Requirement already satisfied: aiosignal>=1.1.2 in /opt/conda/lib/python3.7/site-packages (from aiohttp->gradio) (1.3.1)\r\n",
      "Requirement already satisfied: attrs>=17.3.0 in /opt/conda/lib/python3.7/site-packages (from aiohttp->gradio) (22.2.0)\r\n",
      "Requirement already satisfied: starlette==0.22.0 in /opt/conda/lib/python3.7/site-packages (from fastapi->gradio) (0.22.0)\r\n",
      "Requirement already satisfied: anyio<5,>=3.4.0 in /opt/conda/lib/python3.7/site-packages (from starlette==0.22.0->fastapi->gradio) (3.6.2)\r\n",
      "Collecting httpcore<0.18.0,>=0.15.0\r\n",
      "  Downloading httpcore-0.17.0-py3-none-any.whl (70 kB)\r\n",
      "\u001b[2K     \u001b[90m━━━━━━━━━━━━━━━━━━━━━━━━━━━━━━━━━━━━━━━━\u001b[0m \u001b[32m70.6/70.6 kB\u001b[0m \u001b[31m6.4 MB/s\u001b[0m eta \u001b[36m0:00:00\u001b[0m\r\n",
      "\u001b[?25hRequirement already satisfied: certifi in /opt/conda/lib/python3.7/site-packages (from httpx->gradio) (2022.12.7)\r\n",
      "Requirement already satisfied: idna in /opt/conda/lib/python3.7/site-packages (from httpx->gradio) (3.4)\r\n",
      "Requirement already satisfied: sniffio in /opt/conda/lib/python3.7/site-packages (from httpx->gradio) (1.3.0)\r\n",
      "Requirement already satisfied: cycler>=0.10 in /opt/conda/lib/python3.7/site-packages (from matplotlib->gradio) (0.11.0)\r\n",
      "Requirement already satisfied: pyparsing>=2.2.1 in /opt/conda/lib/python3.7/site-packages (from matplotlib->gradio) (3.0.9)\r\n",
      "Requirement already satisfied: kiwisolver>=1.0.1 in /opt/conda/lib/python3.7/site-packages (from matplotlib->gradio) (1.4.4)\r\n",
      "Requirement already satisfied: fonttools>=4.22.0 in /opt/conda/lib/python3.7/site-packages (from matplotlib->gradio) (4.38.0)\r\n",
      "Requirement already satisfied: urllib3<1.27,>=1.21.1 in /opt/conda/lib/python3.7/site-packages (from requests->gradio) (1.26.14)\r\n",
      "Requirement already satisfied: h11>=0.8 in /opt/conda/lib/python3.7/site-packages (from uvicorn->gradio) (0.14.0)\r\n",
      "Requirement already satisfied: click>=7.0 in /opt/conda/lib/python3.7/site-packages (from uvicorn->gradio) (8.1.3)\r\n",
      "Requirement already satisfied: pkgutil-resolve-name>=1.3.10 in /opt/conda/lib/python3.7/site-packages (from jsonschema>=3.0->altair>=4.2.0->gradio) (1.3.10)\r\n",
      "Requirement already satisfied: importlib-resources>=1.4.0 in /opt/conda/lib/python3.7/site-packages (from jsonschema>=3.0->altair>=4.2.0->gradio) (5.10.2)\r\n",
      "Requirement already satisfied: pyrsistent!=0.17.0,!=0.17.1,!=0.17.2,>=0.14.0 in /opt/conda/lib/python3.7/site-packages (from jsonschema>=3.0->altair>=4.2.0->gradio) (0.19.3)\r\n",
      "Collecting uc-micro-py\r\n",
      "  Downloading uc_micro_py-1.0.1-py3-none-any.whl (6.2 kB)\r\n",
      "Requirement already satisfied: six>=1.5 in /opt/conda/lib/python3.7/site-packages (from python-dateutil>=2.7.3->pandas->gradio) (1.16.0)\r\n",
      "Requirement already satisfied: zipp>=0.5 in /opt/conda/lib/python3.7/site-packages (from importlib-metadata->huggingface-hub>=0.13.0->gradio) (3.11.0)\r\n",
      "Building wheels for collected packages: ffmpy\r\n",
      "  Building wheel for ffmpy (setup.py) ... \u001b[?25l-\b \b\\\b \bdone\r\n",
      "\u001b[?25h  Created wheel for ffmpy: filename=ffmpy-0.3.0-py3-none-any.whl size=4711 sha256=8d07445e5329b2ab8c3d21bce9b10378afac2f2c84d80e51fcd04e3667aa3741\r\n",
      "  Stored in directory: /root/.cache/pip/wheels/c0/96/80/1aeaaf27265398a7393b296714b84e51a7d00101f8a665a25a\r\n",
      "Successfully built ffmpy\r\n",
      "Installing collected packages: ffmpy, uc-micro-py, semantic-version, python-multipart, aiofiles, linkify-it-py, httpcore, httpx, gradio-client, gradio\r\n",
      "Successfully installed aiofiles-23.1.0 ffmpy-0.3.0 gradio-3.27.0 gradio-client-0.1.3 httpcore-0.17.0 httpx-0.24.0 linkify-it-py-1.0.3 python-multipart-0.0.6 semantic-version-2.10.0 uc-micro-py-1.0.1\r\n",
      "\u001b[33mWARNING: Running pip as the 'root' user can result in broken permissions and conflicting behaviour with the system package manager. It is recommended to use a virtual environment instead: https://pip.pypa.io/warnings/venv\u001b[0m\u001b[33m\r\n",
      "\u001b[0m"
     ]
    }
   ],
   "source": [
    "!pip install gradio"
   ]
  },
  {
   "cell_type": "markdown",
   "id": "4fbde37a",
   "metadata": {
    "papermill": {
     "duration": 0.006301,
     "end_time": "2023-04-17T13:09:08.417779",
     "exception": false,
     "start_time": "2023-04-17T13:09:08.411478",
     "status": "completed"
    },
    "tags": []
   },
   "source": [
    "**Import Gradio, a library for creating web-based user interfaces for machine learning models**"
   ]
  },
  {
   "cell_type": "code",
   "execution_count": 3,
   "id": "d63e14dc",
   "metadata": {
    "execution": {
     "iopub.execute_input": "2023-04-17T13:09:08.432956Z",
     "iopub.status.busy": "2023-04-17T13:09:08.432530Z",
     "iopub.status.idle": "2023-04-17T13:09:10.122065Z",
     "shell.execute_reply": "2023-04-17T13:09:10.121124Z"
    },
    "papermill": {
     "duration": 1.700255,
     "end_time": "2023-04-17T13:09:10.124537",
     "exception": false,
     "start_time": "2023-04-17T13:09:08.424282",
     "status": "completed"
    },
    "tags": []
   },
   "outputs": [],
   "source": [
    "import gradio as gr"
   ]
  },
  {
   "cell_type": "markdown",
   "id": "83fbf80e",
   "metadata": {
    "papermill": {
     "duration": 0.006314,
     "end_time": "2023-04-17T13:09:10.137536",
     "exception": false,
     "start_time": "2023-04-17T13:09:10.131222",
     "status": "completed"
    },
    "tags": []
   },
   "source": [
    "**Load a previously trained model from a .pkl (pickle) file**"
   ]
  },
  {
   "cell_type": "code",
   "execution_count": 4,
   "id": "2c307787",
   "metadata": {
    "execution": {
     "iopub.execute_input": "2023-04-17T13:09:10.152897Z",
     "iopub.status.busy": "2023-04-17T13:09:10.152058Z",
     "iopub.status.idle": "2023-04-17T13:09:10.870487Z",
     "shell.execute_reply": "2023-04-17T13:09:10.869156Z"
    },
    "papermill": {
     "duration": 0.729078,
     "end_time": "2023-04-17T13:09:10.873274",
     "exception": false,
     "start_time": "2023-04-17T13:09:10.144196",
     "status": "completed"
    },
    "tags": []
   },
   "outputs": [],
   "source": [
    "learn= load_learner('/kaggle/input/pool-detection-model/Pool-Detection-Model.pkl')"
   ]
  },
  {
   "cell_type": "markdown",
   "id": "64072689",
   "metadata": {
    "papermill": {
     "duration": 0.006168,
     "end_time": "2023-04-17T13:09:10.886197",
     "exception": false,
     "start_time": "2023-04-17T13:09:10.880029",
     "status": "completed"
    },
    "tags": []
   },
   "source": [
    "**Define a function that takes an input image, uses the loaded model to make a prediction,and returns the prediction along with its probability**"
   ]
  },
  {
   "cell_type": "code",
   "execution_count": 5,
   "id": "38c54d4b",
   "metadata": {
    "execution": {
     "iopub.execute_input": "2023-04-17T13:09:10.901513Z",
     "iopub.status.busy": "2023-04-17T13:09:10.900455Z",
     "iopub.status.idle": "2023-04-17T13:09:10.906585Z",
     "shell.execute_reply": "2023-04-17T13:09:10.905415Z"
    },
    "papermill": {
     "duration": 0.016918,
     "end_time": "2023-04-17T13:09:10.909505",
     "exception": false,
     "start_time": "2023-04-17T13:09:10.892587",
     "status": "completed"
    },
    "tags": []
   },
   "outputs": [],
   "source": [
    "labels = learn.dls.vocab\n",
    "def predict(img):\n",
    "    img = numpy.asarray(img)\n",
    "    #print((img))\n",
    "    pred,pred_idx,probs = learn.predict(img)\n",
    "    #print(pred)\n",
    "    #print(float(probs[pred_idx]))\n",
    "    return {str(pred): float(probs[pred_idx])}"
   ]
  },
  {
   "cell_type": "markdown",
   "id": "04f2eb3b",
   "metadata": {
    "papermill": {
     "duration": 0.006209,
     "end_time": "2023-04-17T13:09:10.922279",
     "exception": false,
     "start_time": "2023-04-17T13:09:10.916070",
     "status": "completed"
    },
    "tags": []
   },
   "source": [
    "**Load a image from the validation set to test**"
   ]
  },
  {
   "cell_type": "code",
   "execution_count": 6,
   "id": "f22f296f",
   "metadata": {
    "execution": {
     "iopub.execute_input": "2023-04-17T13:09:10.937471Z",
     "iopub.status.busy": "2023-04-17T13:09:10.936544Z",
     "iopub.status.idle": "2023-04-17T13:09:10.954257Z",
     "shell.execute_reply": "2023-04-17T13:09:10.953345Z"
    },
    "papermill": {
     "duration": 0.027376,
     "end_time": "2023-04-17T13:09:10.956393",
     "exception": false,
     "start_time": "2023-04-17T13:09:10.929017",
     "status": "completed"
    },
    "tags": []
   },
   "outputs": [
    {
     "data": {
      "image/png": "[encoded data removed]",
      "text/plain": [
       "<PIL.JpegImagePlugin.JpegImageFile image mode=RGB size=50x50>"
      ]
     },
     "execution_count": 6,
     "metadata": {},
     "output_type": "execute_result"
    }
   ],
   "source": [
    "PATH = \"/kaggle/input/testset/data/validation\"\n",
    "im = Image.open(PATH+\"/no_pools/img922.jpg\")\n",
    "im\n"
   ]
  },
  {
   "cell_type": "markdown",
   "id": "e2a0fff6",
   "metadata": {
    "papermill": {
     "duration": 0.006862,
     "end_time": "2023-04-17T13:09:10.970136",
     "exception": false,
     "start_time": "2023-04-17T13:09:10.963274",
     "status": "completed"
    },
    "tags": []
   },
   "source": [
    "**Predict if the image contains a pool or not.**"
   ]
  },
  {
   "cell_type": "code",
   "execution_count": 7,
   "id": "12174ce9",
   "metadata": {
    "execution": {
     "iopub.execute_input": "2023-04-17T13:09:10.985305Z",
     "iopub.status.busy": "2023-04-17T13:09:10.984900Z",
     "iopub.status.idle": "2023-04-17T13:09:11.254420Z",
     "shell.execute_reply": "2023-04-17T13:09:11.253293Z"
    },
    "papermill": {
     "duration": 0.279989,
     "end_time": "2023-04-17T13:09:11.256888",
     "exception": false,
     "start_time": "2023-04-17T13:09:10.976899",
     "status": "completed"
    },
    "tags": []
   },
   "outputs": [
    {
     "data": {
      "text/html": [
       "\n",
       "<style>\n",
       "    /* Turns off some styling */\n",
       "    progress {\n",
       "        /* gets rid of default border in Firefox and Opera. */\n",
       "        border: none;\n",
       "        /* Needs to be in here for Safari polyfill so background images work as expected. */\n",
       "        background-size: auto;\n",
       "    }\n",
       "    progress:not([value]), progress:not([value])::-webkit-progress-bar {\n",
       "        background: repeating-linear-gradient(45deg, #7e7e7e, #7e7e7e 10px, #5c5c5c 10px, #5c5c5c 20px);\n",
       "    }\n",
       "    .progress-bar-interrupted, .progress-bar-interrupted::-webkit-progress-bar {\n",
       "        background: #F44336;\n",
       "    }\n",
       "</style>\n"
      ],
      "text/plain": [
       "<IPython.core.display.HTML object>"
      ]
     },
     "metadata": {},
     "output_type": "display_data"
    },
    {
     "data": {
      "text/html": [],
      "text/plain": [
       "<IPython.core.display.HTML object>"
      ]
     },
     "metadata": {},
     "output_type": "display_data"
    },
    {
     "data": {
      "text/plain": [
       "('no_pools', tensor(0), tensor([9.9983e-01, 1.6811e-04]))"
      ]
     },
     "execution_count": 7,
     "metadata": {},
     "output_type": "execute_result"
    }
   ],
   "source": [
    "learn.predict(im)"
   ]
  },
  {
   "cell_type": "markdown",
   "id": "1cfd7a23",
   "metadata": {
    "papermill": {
     "duration": 0.006736,
     "end_time": "2023-04-17T13:09:11.271061",
     "exception": false,
     "start_time": "2023-04-17T13:09:11.264325",
     "status": "completed"
    },
    "tags": []
   },
   "source": [
    "**Create and launch a Gradio interface using the predict function, with an image input of shape (50, 50),and returning the top 1 class labels as output; the interface is shareable via a public link**"
   ]
  },
  {
   "cell_type": "code",
   "execution_count": 8,
   "id": "4ea13851",
   "metadata": {
    "execution": {
     "iopub.execute_input": "2023-04-17T13:09:11.286714Z",
     "iopub.status.busy": "2023-04-17T13:09:11.286291Z",
     "iopub.status.idle": "2023-04-17T13:09:21.304514Z",
     "shell.execute_reply": "2023-04-17T13:09:21.303444Z"
    },
    "papermill": {
     "duration": 10.029068,
     "end_time": "2023-04-17T13:09:21.306926",
     "exception": false,
     "start_time": "2023-04-17T13:09:11.277858",
     "status": "completed"
    },
    "tags": []
   },
   "outputs": [
    {
     "name": "stderr",
     "output_type": "stream",
     "text": [
      "/opt/conda/lib/python3.7/site-packages/gradio/inputs.py:258: UserWarning: Usage of gradio.inputs is deprecated, and will not be supported in the future, please import your component from gradio.components\n",
      "  \"Usage of gradio.inputs is deprecated, and will not be supported in the future, please import your component from gradio.components\",\n",
      "/opt/conda/lib/python3.7/site-packages/gradio/deprecation.py:40: UserWarning: `optional` parameter is deprecated, and it has no effect\n",
      "  warnings.warn(value)\n",
      "/opt/conda/lib/python3.7/site-packages/gradio/outputs.py:198: UserWarning: Usage of gradio.outputs is deprecated, and will not be supported in the future, please import your components from gradio.components\n",
      "  \"Usage of gradio.outputs is deprecated, and will not be supported in the future, please import your components from gradio.components\",\n",
      "/opt/conda/lib/python3.7/site-packages/gradio/deprecation.py:40: UserWarning: The 'type' parameter has been deprecated. Use the Number component instead.\n",
      "  warnings.warn(value)\n"
     ]
    },
    {
     "name": "stdout",
     "output_type": "stream",
     "text": [
      "Running on local URL:  http://127.0.0.1:7860\n",
      "Running on public URL: https://9a96b24a45bd233edb.gradio.live\n",
      "\n",
      "This share link expires in 72 hours. For free permanent hosting and GPU upgrades (NEW!), check out Spaces: https://huggingface.co/spaces\n"
     ]
    },
    {
     "data": {
      "text/html": [
       "<div><iframe src=\"https://9a96b24a45bd233edb.gradio.live\" width=\"100%\" height=\"500\" allow=\"autoplay; camera; microphone; clipboard-read; clipboard-write;\" frameborder=\"0\" allowfullscreen></iframe></div>"
      ],
      "text/plain": [
       "<IPython.core.display.HTML object>"
      ]
     },
     "metadata": {},
     "output_type": "display_data"
    },
    {
     "data": {
      "text/plain": []
     },
     "execution_count": 8,
     "metadata": {},
     "output_type": "execute_result"
    }
   ],
   "source": [
    "gr.Interface(fn=predict, inputs=gr.inputs.Image(shape=(50, 50)), outputs=gr.outputs.Label(num_top_classes=1)).launch(share=True)"
   ]
  },
  {
   "cell_type": "code",
   "execution_count": null,
   "id": "f8b92ae5",
   "metadata": {
    "papermill": {
     "duration": 0.007147,
     "end_time": "2023-04-17T13:09:21.322559",
     "exception": false,
     "start_time": "2023-04-17T13:09:21.315412",
     "status": "completed"
    },
    "tags": []
   },
   "outputs": [],
   "source": []
  },
  {
   "cell_type": "code",
   "execution_count": null,
   "id": "74d6ec01",
   "metadata": {
    "papermill": {
     "duration": 0.007221,
     "end_time": "2023-04-17T13:09:21.337304",
     "exception": false,
     "start_time": "2023-04-17T13:09:21.330083",
     "status": "completed"
    },
    "tags": []
   },
   "outputs": [],
   "source": []
  }
 ],
 "metadata": {
  "kernelspec": {
   "display_name": "Python 3",
   "language": "python",
   "name": "python3"
  },
  "language_info": {
   "codemirror_mode": {
    "name": "ipython",
    "version": 3
   },
   "file_extension": ".py",
   "mimetype": "text/x-python",
   "name": "python",
   "nbconvert_exporter": "python",
   "pygments_lexer": "ipython3",
   "version": "3.7.12"
  },
  "papermill": {
   "default_parameters": {},
   "duration": 46.345212,
   "end_time": "2023-04-17T13:09:23.965162",
   "environment_variables": {},
   "exception": null,
   "input_path": "__notebook__.ipynb",
   "output_path": "__notebook__.ipynb",
   "parameters": {},
   "start_time": "2023-04-17T13:08:37.619950",
   "version": "2.4.0"
  }
 },
 "nbformat": 4,
 "nbformat_minor": 5
}
